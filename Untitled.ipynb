{
 "cells": [
  {
   "cell_type": "code",
   "execution_count": 12,
   "id": "bf07983e-133e-4501-9593-be9cdbad45ce",
   "metadata": {},
   "outputs": [],
   "source": [
    "from pathlib import Path"
   ]
  },
  {
   "cell_type": "code",
   "execution_count": 32,
   "id": "6082a904-0439-4702-a64c-e73f7ff98ca3",
   "metadata": {},
   "outputs": [],
   "source": [
    "class MainWindow():\n",
    "    def __init__(self):\n",
    "        super().__init__()\n",
    "        self.folder_path = None\n",
    "        self.color_profiles = {}  # Initialize here\n",
    "        # self.init_ui()\n",
    "        \n",
    "    def on_font_selected(self, folder_path):\n",
    "        print('DEBUG: Starting on_font_selected...')\n",
    "        try:\n",
    "            path = Path(folder_path)\n",
    "            print(\"\\nDEBUG: Loading font settings from:\", path)\n",
    "            \n",
    "            # Load font config\n",
    "            config_path = path / \"font_config.txt\"\n",
    "            print(f'DEBUG: Config_path: {config_path}')\n",
    "            if config_path.exists():\n",
    "                settings = self.load_settings_file(config_path)\n",
    "                self.font_config_grid.update_settings(settings)\n",
    "                \n",
    "                # Load associated blade profile\n",
    "                if 'start_blade' in settings:\n",
    "                    print(f\"DEBUG: Found start_blade: {settings['start_blade']}\")\n",
    "                    blade_profile = self.load_blade_profile(settings['start_blade'])\n",
    "                    print(f\"DEBUG: Loaded blade profile settings:\", blade_profile)\n",
    "                    if blade_profile:\n",
    "                        self.blade_profile_grid.update_settings(blade_profile)\n",
    "        except Exception as e:\n",
    "            print(f\"Error loading settings: {e}\")\n",
    "           # QtWidgets.QMessageBox.warning(self, \"Error\", f\"Failed to load settings: {str(e)}\")\n",
    "    \n",
    "    def load_settings_file(self, file_path):\n",
    "            settings = {}\n",
    "            with open(file_path, 'r') as f:\n",
    "                for line in f:\n",
    "                    line = line.strip()\n",
    "                    if line and not line.startswith('//') and not line.startswith('#'):\n",
    "                        if '=' in line:\n",
    "                            key, value = line.split('=', 1)\n",
    "                            settings[key.strip()] = value.strip()\n",
    "            return settings\n",
    "\n",
    "    def load_fonts(self, folder_path):\n",
    "        try:\n",
    "            print(\"Loading fonts...\")\n",
    "            # self.list_widget.clear()\n",
    "            path = Path(folder_path)\n",
    "            \n",
    "            # Find and sort font folders\n",
    "            folders = []\n",
    "            for item in path.iterdir():\n",
    "                if item.is_dir() and item.name[0].isdigit():\n",
    "                    number = int(item.name.split('-')[0])\n",
    "                    folders.append((number, item))\n",
    "            \n",
    "            # Sort by number\n",
    "            folders.sort(key=lambda x: x[0])\n",
    "            \n",
    "            # Add sorted folders to list\n",
    "            for _, item in folders:\n",
    "                print(f\"Found font folder: {item.name}\")\n",
    "                #list_item = QtWidgets.QListWidgetItem(item.name)\n",
    "                #list_item.setData(QtCore.Qt.UserRole, str(item))\n",
    "                #self.list_widget.addItem(list_item)\n",
    "        except Exception as e:\n",
    "            print(f\"Error loading fonts: {e}\")\n",
    "            #QtWidgets.QMessageBox.warning(None, \"Error\", f\"Failed to load fonts: {str(e)}\")\n",
    "\n",
    "    def load_blade_profile(self, profile_num):\n",
    "        try:\n",
    "            profile_num = int(profile_num)\n",
    "            config_path = Path(self.folder_path) / \"config.txt\"\n",
    "            \n",
    "            if not config_path.exists():\n",
    "                return None\n",
    "                \n",
    "            current_profile = None\n",
    "            profile_data = {}\n",
    "            \n",
    "            with open(config_path, 'r') as f:\n",
    "                for line in f:\n",
    "                    line = line.strip()\n",
    "                    if line.startswith('[profile='):\n",
    "                        current_profile = int(line[9:-1])\n",
    "                    elif '=' in line and current_profile == profile_num:\n",
    "                        key, value = line.split('=', 1)\n",
    "                        profile_data[key.strip()] = value.strip()\n",
    "                        \n",
    "            return profile_data\n",
    "        except Exception as e:\n",
    "            print(f\"Error loading blade profile: {e}\")\n",
    "            return None\n",
    "\n",
    "    def select_folder(self, folder_name):\n",
    "        print(f\"\\nDEBUG: select_folder called\")\n",
    "        try:\n",
    "            folder = folder_name\n",
    "            \n",
    "            if folder:\n",
    "                print(f\"\\nDEBUG: Selected folder: {folder}\")\n",
    "                self.folder_path = folder\n",
    "                \n",
    "                print(\"DEBUG: Loading grafx profiles...\")\n",
    "                self.grafx_profiles = color_utils.load_grafx_profiles(Path(folder))\n",
    "                print(f\"DEBUG: Stored grafx profiles: {self.grafx_profiles}\")\n",
    "                print(f\"DEBUG: self has grafx_profiles: {hasattr(self, 'grafx_profiles')}\")\n",
    "                \n",
    "                # Load color profiles\n",
    "                self.color_profiles = color_utils.load_color_profiles(Path(folder))\n",
    "                self.font_list.load_fonts(folder)\n",
    "                \n",
    "        except Exception as e:\n",
    "            print(f\"Error selecting folder: {e}\")\n",
    "            QtWidgets.QMessageBox.critical(self, \"Error\", str(e))"
   ]
  },
  {
   "cell_type": "code",
   "execution_count": 40,
   "id": "0fe90dde-ff7b-4f33-8a44-16c8ca20f834",
   "metadata": {},
   "outputs": [],
   "source": [
    "def load_grafx_profiles(root_path: Path) -> dict:\n",
    "    \"\"\"Load grafx profile names from the grafx folder.\"\"\"\n",
    "    profiles = {}\n",
    "    try:\n",
    "        print(f\"\\nLooking for grafx folder in: {root_path}\")\n",
    "        grafx_path = root_path / 'extra' / 'grafx'\n",
    "        print(f\"Checking path: {grafx_path}\")\n",
    "        if not grafx_path.exists():\n",
    "            print(\"Grafx path not found\")\n",
    "            return profiles\n",
    "\n",
    "        print(\"Found grafx folder, checking contents:\")\n",
    "        for item in grafx_path.iterdir():\n",
    "            print(f\"Found item: {item.name}\")\n",
    "            if item.is_dir() and item.name[0].isdigit():\n",
    "                try:\n",
    "                    # Extract number and name\n",
    "                    number = int(item.name.split('-')[0])\n",
    "                    name = '-'.join(item.name.split('-')[2:])\n",
    "                    profiles[number] = name\n",
    "                    print(f\"Added profile {number}: {name}\")\n",
    "                except (ValueError, IndexError):\n",
    "                    continue\n",
    "\n",
    "        print(f\"Final profiles dictionary: {profiles}\")\n",
    "\n",
    "    except Exception as e:\n",
    "        print(f\"Error loading grafx profiles: {e}\")\n",
    "    \n",
    "    return profiles"
   ]
  },
  {
   "cell_type": "code",
   "execution_count": 24,
   "id": "5d7d3b2b-dfc8-4422-a309-c838ab019201",
   "metadata": {},
   "outputs": [],
   "source": [
    "path = '/Users/carlissimo/desktop/SabertrioCFXPreconfiguration6.1'"
   ]
  },
  {
   "cell_type": "code",
   "execution_count": 43,
   "id": "155021b5-d399-4727-aac6-f68ced5b0867",
   "metadata": {},
   "outputs": [
    {
     "name": "stdout",
     "output_type": "stream",
     "text": [
      "\n",
      "Looking for grafx folder in: /Users/carlissimo/desktop/SabertrioCFXPreconfiguration6.1\n",
      "Error loading grafx profiles: unsupported operand type(s) for /: 'str' and 'str'\n"
     ]
    },
    {
     "data": {
      "text/plain": [
       "{}"
      ]
     },
     "execution_count": 43,
     "metadata": {},
     "output_type": "execute_result"
    }
   ],
   "source": [
    "load_grafx_profiles(root_path = path)"
   ]
  },
  {
   "cell_type": "code",
   "execution_count": 26,
   "id": "aaf1b8f0-4094-4faa-998d-555817ed27a2",
   "metadata": {},
   "outputs": [
    {
     "name": "stdout",
     "output_type": "stream",
     "text": [
      "DEBUG: Starting on_font_selected...\n",
      "\n",
      "DEBUG: Loading font settings from: /Users/carlissimo/desktop/SabertrioCFXPreconfiguration6.1\n",
      "DEBUG: Config_path: /Users/carlissimo/desktop/SabertrioCFXPreconfiguration6.1/font_config.txt\n"
     ]
    }
   ],
   "source": [
    "window.on_font_selected(path)"
   ]
  },
  {
   "cell_type": "code",
   "execution_count": 27,
   "id": "0f2ff6c2-0289-4118-95cb-3c6444ba209e",
   "metadata": {},
   "outputs": [
    {
     "name": "stdout",
     "output_type": "stream",
     "text": [
      "Loading fonts...\n",
      "Found font folder: 17-ANCIENT_PROPHECIES\n"
     ]
    }
   ],
   "source": [
    "window.load_fonts(path)"
   ]
  },
  {
   "cell_type": "code",
   "execution_count": 37,
   "id": "e7073bb2-61c3-4d09-8541-cc0f66d5d4d3",
   "metadata": {},
   "outputs": [
    {
     "name": "stdout",
     "output_type": "stream",
     "text": [
      "Error loading blade profile: expected str, bytes or os.PathLike object, not NoneType\n"
     ]
    }
   ],
   "source": [
    "window.sel\n",
    "window.load_blade_profile('17')"
   ]
  },
  {
   "cell_type": "code",
   "execution_count": 39,
   "id": "d15b6c66-6b40-4e3e-bb26-6835e72f393d",
   "metadata": {},
   "outputs": [
    {
     "data": {
      "text/plain": [
       "{'folder_path': None, 'color_profiles': {}}"
      ]
     },
     "execution_count": 39,
     "metadata": {},
     "output_type": "execute_result"
    }
   ],
   "source": [
    "window.__dict__"
   ]
  },
  {
   "cell_type": "code",
   "execution_count": null,
   "id": "db9db129-0d2c-4e50-a421-53d4f83e6698",
   "metadata": {},
   "outputs": [],
   "source": []
  }
 ],
 "metadata": {
  "kernelspec": {
   "display_name": "Python 3 (ipykernel)",
   "language": "python",
   "name": "python3"
  },
  "language_info": {
   "codemirror_mode": {
    "name": "ipython",
    "version": 3
   },
   "file_extension": ".py",
   "mimetype": "text/x-python",
   "name": "python",
   "nbconvert_exporter": "python",
   "pygments_lexer": "ipython3",
   "version": "3.9.20"
  }
 },
 "nbformat": 4,
 "nbformat_minor": 5
}
